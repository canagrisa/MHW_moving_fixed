{
 "cells": [
  {
   "cell_type": "code",
   "execution_count": 2,
   "metadata": {},
   "outputs": [],
   "source": [
    "import os\n",
    "import xarray as xr\n",
    "import numpy as np\n",
    "\n",
    "import sys\n",
    "sys.path.append(\"..\")\n",
    "import utils"
   ]
  },
  {
   "cell_type": "code",
   "execution_count": 3,
   "metadata": {},
   "outputs": [],
   "source": [
    "file = '../../data/satellite/sst_rep_l4/sst_1982_2021.nc'\n",
    "ds = xr.open_mfdataset(file)"
   ]
  },
  {
   "cell_type": "code",
   "execution_count": 9,
   "metadata": {},
   "outputs": [],
   "source": [
    "# Compute the area of each grid cell using the provided function\n",
    "grid_areas = utils.area(ds['lat'], ds['lon'])\n",
    "\n",
    "# Calculate the weighted mean of 'analysed_sst' along the lat and lon dimensions\n",
    "sst_mean = ds['analysed_sst'].weighted(grid_areas).mean(dim=['lat', 'lon']) - 273.15\n",
    "\n",
    "# Calculate the weighted mean of 'analysed_sst' + 'analysis_error'\n",
    "sst_plus_error = (ds['analysed_sst'] + ds['analysis_error']).weighted(grid_areas).mean(dim=['lat', 'lon']) - 273.15\n",
    "\n",
    "# Calculate the weighted mean of 'analysed_sst' - 'analysis_error'\n",
    "sst_minus_error = (ds['analysed_sst'] - ds['analysis_error']).weighted(grid_areas).mean(dim=['lat', 'lon']) - 273.15\n",
    "\n"
   ]
  },
  {
   "cell_type": "code",
   "execution_count": 14,
   "metadata": {},
   "outputs": [],
   "source": [
    "# Create the new dataset with the computed variables\n",
    "ds_ts = xr.Dataset({\n",
    "    'sst': sst_mean,\n",
    "    'sst_plus_error': sst_plus_error,\n",
    "    'sst_minus_error': sst_minus_error\n",
    "})\n",
    "ds_ts = ds_ts.assign_coords(time=ds['time'])\n",
    "\n",
    "fold = '../../results/SST/satellite/'\n",
    "if not os.path.exists(fold):\n",
    "    os.makedirs(fold)\n",
    "\n",
    "ds_ts = ds_ts.groupby(\"time.year\").mean(dim=\"time\")\n",
    "ds_ts.to_netcdf(fold + 'mean_sst_satellite.nc')\n"
   ]
  }
 ],
 "metadata": {
  "kernelspec": {
   "display_name": "myenv",
   "language": "python",
   "name": "python3"
  },
  "language_info": {
   "codemirror_mode": {
    "name": "ipython",
    "version": 3
   },
   "file_extension": ".py",
   "mimetype": "text/x-python",
   "name": "python",
   "nbconvert_exporter": "python",
   "pygments_lexer": "ipython3",
   "version": "3.9.15"
  },
  "orig_nbformat": 4
 },
 "nbformat": 4,
 "nbformat_minor": 2
}

{
 "cells": [
  {
   "cell_type": "code",
   "execution_count": 1,
   "metadata": {},
   "outputs": [],
   "source": [
    "%reload_ext autoreload\n",
    "%autoreload 2\n",
    "\n",
    "\n",
    "import xarray as xr\n",
    "import numpy as np\n",
    "import matplotlib.pyplot as plt\n",
    "import warnings\n",
    "import os\n",
    "from pathlib import Path\n",
    "from MHW_metrics import main\n",
    "\n",
    "import sys\n",
    "sys.path.append(\"..\")\n",
    "import utils\n"
   ]
  },
  {
   "cell_type": "code",
   "execution_count": 2,
   "metadata": {},
   "outputs": [],
   "source": [
    "# Available models once they've been downloaded\n",
    "\n",
    "models = sorted(list(utils.dirtodict('../../data/CMIP6/').keys()))[1:]"
   ]
  },
  {
   "cell_type": "code",
   "execution_count": null,
   "metadata": {},
   "outputs": [],
   "source": [
    "def open_and_process_dataset(files, time_slice=None):\n",
    "    with warnings.catch_warnings():\n",
    "        warnings.simplefilter(\"ignore\", category=RuntimeWarning)\n",
    "        ds = xr.open_mfdataset(files, combine=\"by_coords\")\n",
    "        if time_slice:\n",
    "            ds = ds.sel(time=ds.time.dt.year.isin(list(range(*time_slice))))\n",
    "    return ds\n",
    "\n",
    "# Set the baseline type and baseline length\n",
    "\n",
    "baseline_year_length = 20\n",
    "baseline_type = \"moving_baseline\"\n",
    "\n",
    "for model in models:\n",
    "    print('\\n')\n",
    "    print(model)\n",
    "    data_path = Path(f\"../../data/CMIP6/{model}/\")\n",
    "    dir_dict = utils.dirtodict(data_path)\n",
    "    variants = sorted(list(dir_dict.keys())[:-1])\n",
    "\n",
    "    for variant in variants:\n",
    "        print(variant)\n",
    "        files_hist = dir_dict[variant][\"tos\"][\"historical\"][\".files\"]\n",
    "        ds_hist = open_and_process_dataset(files_hist, time_slice=(1982, 2015))\n",
    "\n",
    "        for experiment in [\"ssp126\", \"ssp585\"]:\n",
    "            print(experiment)\n",
    "\n",
    "            output_dir = Path(f\"../../results/MHW/CMIP6/{model}/{variant}/{baseline_type}/\")\n",
    "            output_dir.mkdir(parents=True, exist_ok=True)\n",
    "            output_path = output_dir / f\"MHW_metrics_{experiment}.nc\"\n",
    "\n",
    "            if os.path.exists(output_path):\n",
    "                print(f\"Skipping\")\n",
    "                continue\n",
    "\n",
    "            files_ssp = dir_dict[variant][\"tos\"][experiment][\".files\"]\n",
    "            ds_ssp = open_and_process_dataset(files_ssp, time_slice=(2015, 2100))\n",
    "\n",
    "            ds = xr.concat([ds_hist, ds_ssp], dim=\"time\")\n",
    "\n",
    "            ds_mhw = main.MHW_metrics_cmip(ds, baseline_year_length, baseline_type=baseline_type)\n",
    "\n",
    "            ds_mhw.to_netcdf(output_path)"
   ]
  }
 ],
 "metadata": {
  "kernelspec": {
   "display_name": "venv",
   "language": "python",
   "name": "python3"
  },
  "language_info": {
   "codemirror_mode": {
    "name": "ipython",
    "version": 3
   },
   "file_extension": ".py",
   "mimetype": "text/x-python",
   "name": "python",
   "nbconvert_exporter": "python",
   "pygments_lexer": "ipython3",
   "version": "3.9.15"
  },
  "orig_nbformat": 4
 },
 "nbformat": 4,
 "nbformat_minor": 2
}

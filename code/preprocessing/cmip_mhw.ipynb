{
 "cells": [
  {
   "cell_type": "code",
   "execution_count": 3,
   "metadata": {},
   "outputs": [],
   "source": [
    "%reload_ext autoreload\n",
    "%autoreload 2\n",
    "\n",
    "\n",
    "import xarray as xr\n",
    "import numpy as np\n",
    "import matplotlib.pyplot as plt\n",
    "import warnings\n",
    "import os\n",
    "from pathlib import Path\n",
    "from MHW_metrics import main\n",
    "import json\n",
    "\n",
    "import sys\n",
    "sys.path.append(\"..\")\n",
    "import utils\n"
   ]
  },
  {
   "cell_type": "code",
   "execution_count": 4,
   "metadata": {},
   "outputs": [
    {
     "ename": "FileNotFoundError",
     "evalue": "[Errno 2] No such file or directory: '../../data/CMIP6/'",
     "output_type": "error",
     "traceback": [
      "\u001b[0;31m---------------------------------------------------------------------------\u001b[0m",
      "\u001b[0;31mFileNotFoundError\u001b[0m                         Traceback (most recent call last)",
      "Cell \u001b[0;32mIn[4], line 3\u001b[0m\n\u001b[1;32m      1\u001b[0m \u001b[39m# Available models once they've been downloaded\u001b[39;00m\n\u001b[0;32m----> 3\u001b[0m models \u001b[39m=\u001b[39m \u001b[39msorted\u001b[39m(\u001b[39mlist\u001b[39m(utils\u001b[39m.\u001b[39;49mdirtodict(\u001b[39m'\u001b[39;49m\u001b[39m../../data/CMIP6/\u001b[39;49m\u001b[39m'\u001b[39;49m)\u001b[39m.\u001b[39mkeys()))[\u001b[39m1\u001b[39m:]\n",
      "File \u001b[0;32m~/MHW_moving_fixed/code/preprocessing/../utils.py:14\u001b[0m, in \u001b[0;36mdirtodict\u001b[0;34m(dirPath)\u001b[0m\n\u001b[1;32m     11\u001b[0m \u001b[39mdef\u001b[39;00m \u001b[39mdirtodict\u001b[39m(dirPath):\n\u001b[1;32m     12\u001b[0m     \u001b[39m#From a given folder, create a dictionary with a given folder & file tree structure\u001b[39;00m\n\u001b[1;32m     13\u001b[0m     d \u001b[39m=\u001b[39m {}\n\u001b[0;32m---> 14\u001b[0m     \u001b[39mfor\u001b[39;00m i \u001b[39min\u001b[39;00m [os\u001b[39m.\u001b[39mpath\u001b[39m.\u001b[39mjoin(dirPath, i) \u001b[39mfor\u001b[39;00m i \u001b[39min\u001b[39;00m os\u001b[39m.\u001b[39;49mlistdir(dirPath)\n\u001b[1;32m     15\u001b[0m               \u001b[39mif\u001b[39;00m os\u001b[39m.\u001b[39mpath\u001b[39m.\u001b[39misdir(os\u001b[39m.\u001b[39mpath\u001b[39m.\u001b[39mjoin(dirPath, i))]:\n\u001b[1;32m     16\u001b[0m         d[os\u001b[39m.\u001b[39mpath\u001b[39m.\u001b[39mbasename(i)] \u001b[39m=\u001b[39m dirtodict(i)\n\u001b[1;32m     17\u001b[0m     d[\u001b[39m'\u001b[39m\u001b[39m.files\u001b[39m\u001b[39m'\u001b[39m] \u001b[39m=\u001b[39m [os\u001b[39m.\u001b[39mpath\u001b[39m.\u001b[39mjoin(dirPath, i) \u001b[39mfor\u001b[39;00m i \u001b[39min\u001b[39;00m os\u001b[39m.\u001b[39mlistdir(dirPath)\n\u001b[1;32m     18\u001b[0m                    \u001b[39mif\u001b[39;00m os\u001b[39m.\u001b[39mpath\u001b[39m.\u001b[39misfile(os\u001b[39m.\u001b[39mpath\u001b[39m.\u001b[39mjoin(dirPath, i))]\n",
      "\u001b[0;31mFileNotFoundError\u001b[0m: [Errno 2] No such file or directory: '../../data/CMIP6/'"
     ]
    }
   ],
   "source": [
    "with open('../../data/models.json', 'r') as file:\n",
    "    models = json.load(file)"
   ]
  },
  {
   "cell_type": "code",
   "execution_count": null,
   "metadata": {},
   "outputs": [],
   "source": [
    "def open_and_process_dataset(files, time_slice=None):\n",
    "    with warnings.catch_warnings():\n",
    "        warnings.simplefilter(\"ignore\", category=RuntimeWarning)\n",
    "        ds = xr.open_mfdataset(files, combine=\"by_coords\")\n",
    "        if time_slice:\n",
    "            ds = ds.sel(time=ds.time.dt.year.isin(list(range(*time_slice))))\n",
    "    return ds\n",
    "\n",
    "# Set the baseline type and baseline length\n",
    "\n",
    "baseline_year_length = 20\n",
    "baseline_type = \"moving_baseline\"\n",
    "\n",
    "for model in models:\n",
    "    print('\\n')\n",
    "    print(model)\n",
    "    data_path = Path(f\"../../data/CMIP6/{model}/\")\n",
    "    dir_dict = utils.dirtodict(data_path)\n",
    "    variants = sorted(list(dir_dict.keys())[:-1])\n",
    "\n",
    "    for variant in variants:\n",
    "        print(variant)\n",
    "        files_hist = dir_dict[variant][\"tos\"][\"historical\"][\".files\"]\n",
    "        ds_hist = open_and_process_dataset(files_hist, time_slice=(1982, 2015))\n",
    "\n",
    "        for experiment in [\"ssp126\", \"ssp585\"]:\n",
    "            print(experiment)\n",
    "\n",
    "            output_dir = Path(f\"../../results/MHW/CMIP6/{model}/{variant}/{baseline_type}/\")\n",
    "            output_dir.mkdir(parents=True, exist_ok=True)\n",
    "            output_path = output_dir / f\"MHW_metrics_{experiment}.nc\"\n",
    "\n",
    "            if os.path.exists(output_path):\n",
    "                print(f\"Skipping\")\n",
    "                continue\n",
    "\n",
    "            files_ssp = dir_dict[variant][\"tos\"][experiment][\".files\"]\n",
    "            ds_ssp = open_and_process_dataset(files_ssp, time_slice=(2015, 2100))\n",
    "\n",
    "            ds = xr.concat([ds_hist, ds_ssp], dim=\"time\")\n",
    "\n",
    "            ds_mhw = main.MHW_metrics_cmip(ds, baseline_year_length, baseline_type=baseline_type)\n",
    "\n",
    "            ds_mhw.to_netcdf(output_path)"
   ]
  }
 ],
 "metadata": {
  "kernelspec": {
   "display_name": "venv",
   "language": "python",
   "name": "python3"
  },
  "language_info": {
   "codemirror_mode": {
    "name": "ipython",
    "version": 3
   },
   "file_extension": ".py",
   "mimetype": "text/x-python",
   "name": "python",
   "nbconvert_exporter": "python",
   "pygments_lexer": "ipython3",
   "version": "3.11.3"
  },
  "orig_nbformat": 4
 },
 "nbformat": 4,
 "nbformat_minor": 2
}

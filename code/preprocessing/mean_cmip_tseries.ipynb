{
 "cells": [
  {
   "cell_type": "code",
   "execution_count": 1,
   "metadata": {},
   "outputs": [],
   "source": [
    "import os\n",
    "import xarray as xr\n",
    "import numpy as np\n",
    "\n",
    "import sys\n",
    "sys.path.append(\"..\")\n",
    "import utils"
   ]
  },
  {
   "cell_type": "code",
   "execution_count": null,
   "metadata": {},
   "outputs": [],
   "source": [
    "experiments = [\"historical\", \"ssp126\", \"ssp585\"]\n",
    "\n",
    "fold = f\"../../data/CMIP6/\"\n",
    "models = sorted(utils.dirtodict(fold))[1:]\n",
    "\n",
    "\n",
    "def mean_it_up(model, variant, experiment):\n",
    "    ofo = f\"../../results/SST/CMIP6/{model}/{variant}\"\n",
    "\n",
    "    if not os.path.exists(ofo):\n",
    "        os.makedirs(ofo)\n",
    "    path = f\"{ofo}/mean_sst_{experiment}.nc\"\n",
    "    if os.path.exists(path):\n",
    "        return\n",
    "\n",
    "    else:\n",
    "        ds = utils.open_and_process_dataset(\n",
    "            f\"../../data/CMIP6/{model}/{variant}/tos/{experiment}/*.nc\"\n",
    "        )\n",
    "        _, _, lat_idx, lon_idx = utils.get_1d_lat_lon(ds)\n",
    "        ds = ds.mean([lat_idx, lon_idx])\n",
    "        ds = ds.groupby(\"time.year\").mean(dim=\"time\")\n",
    "        ds.to_netcdf(path)\n",
    "    return\n",
    "\n",
    "for model in models:\n",
    "    if model != 'NESM3':\n",
    "        print('\\n' + model,':', end=' ')\n",
    "        for variant in sorted(utils.dirtodict(f\"../../data/CMIP6/{model}/\").keys())[1:]:\n",
    "            print(variant, end=', ')\n",
    "            for experiment in experiments:\n",
    "                mean_it_up(model, variant, experiment)"
   ]
  }
 ],
 "metadata": {
  "kernelspec": {
   "display_name": "myenv",
   "language": "python",
   "name": "python3"
  },
  "language_info": {
   "codemirror_mode": {
    "name": "ipython",
    "version": 3
   },
   "file_extension": ".py",
   "mimetype": "text/x-python",
   "name": "python",
   "nbconvert_exporter": "python",
   "pygments_lexer": "ipython3",
   "version": "3.9.15"
  },
  "orig_nbformat": 4
 },
 "nbformat": 4,
 "nbformat_minor": 2
}

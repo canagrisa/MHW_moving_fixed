{
 "cells": [
  {
   "cell_type": "code",
   "execution_count": 1,
   "metadata": {},
   "outputs": [],
   "source": [
    "import os\n",
    "import xarray as xr\n",
    "import numpy as np\n",
    "\n",
    "import sys\n",
    "sys.path.append(\"..\")\n",
    "import utils"
   ]
  },
  {
   "cell_type": "code",
   "execution_count": 2,
   "metadata": {},
   "outputs": [
    {
     "name": "stdout",
     "output_type": "stream",
     "text": [
      "\n",
      "ACCESS-CM2 : r1i1p1f1, r2i1p1f1, r3i1p1f1, r4i1p1f1, r5i1p1f1, \n",
      "ACCESS-ESM1-5 : r10i1p1f1, r1i1p1f1, r2i1p1f1, r3i1p1f1, r4i1p1f1, \n",
      "CESM2 : r10i1p1f1, r11i1p1f1, r4i1p1f1, \n",
      "CESM2-WACCM : r1i1p1f1, \n",
      "CMCC-CM2-SR5 : r1i1p1f1, \n",
      "CMCC-ESM2 : r1i1p1f1, \n",
      "CNRM-CM6-1 : r2i1p1f2, r3i1p1f2, r4i1p1f2, r5i1p1f2, r6i1p1f2, \n",
      "CNRM-CM6-1-HR : r1i1p1f2, \n",
      "CNRM-ESM2-1 : r1i1p1f2, r2i1p1f2, r3i1p1f2, \n",
      "CanESM5 : r10i1p2f1, r6i1p2f1, r7i1p2f1, r9i1p2f1, \n",
      "EC-Earth3 : r1i1p1f1, \n",
      "EC-Earth3-Veg : r1i1p1f1, \n",
      "EC-Earth3-Veg-LR : r1i1p1f1, \n",
      "GFDL-ESM4 : r1i1p1f1, \n",
      "HadGEM3-GC31-LL : r1i1p1f3, \n",
      "HadGEM3-GC31-MM : r1i1p1f3, \n",
      "IPSL-CM6A-LR : r14i1p1f1, r1i1p1f1, r2i1p1f1, r3i1p1f1, r4i1p1f1, \n",
      "MIROC6 : r1i1p1f1, r2i1p1f1, r3i1p1f1, \n",
      "MPI-ESM1-2-HR : r1i1p1f1, r2i1p1f1, \n",
      "MPI-ESM1-2-LR : r2i1p1f1, r4i1p1f1, r6i1p1f1, r8i1p1f1, r9i1p1f1, \n",
      "MRI-ESM2-0 : r1i1p1f1, r2i1p1f1, r3i1p1f1, r4i1p1f1, r5i1p1f1, \n",
      "NorESM2-LM : r1i1p1f1, \n",
      "NorESM2-MM : r1i1p1f1, \n",
      "UKESM1-0-LL : r1i1p1f2, r2i1p1f2, r3i1p1f2, r4i1p1f2, r8i1p1f2, "
     ]
    }
   ],
   "source": [
    "experiments = [\"historical\", \"ssp126\", \"ssp585\"]\n",
    "\n",
    "fold = f\"../../data/CMIP6/\"\n",
    "models = sorted(utils.dirtodict(fold))[1:]\n",
    "\n",
    "\n",
    "def mean_it_up(model, variant, experiment):\n",
    "    ofo = f\"../../results/SST/CMIP6/{model}/{variant}\"\n",
    "\n",
    "    if not os.path.exists(ofo):\n",
    "        os.makedirs(ofo)\n",
    "    path = f\"{ofo}/mean_sst_{experiment}.nc\"\n",
    "    if os.path.exists(path):\n",
    "        return\n",
    "\n",
    "    else:\n",
    "        ds = utils.open_and_process_dataset(\n",
    "            f\"../../data/CMIP6/{model}/{variant}/tos/{experiment}/*.nc\"\n",
    "        )\n",
    "        _, _, lat_idx, lon_idx = utils.get_1d_lat_lon(ds)\n",
    "        ds = ds.mean([lat_idx, lon_idx])\n",
    "        ds = ds.groupby(\"time.year\").mean(dim=\"time\")\n",
    "        ds.to_netcdf(path)\n",
    "    return\n",
    "\n",
    "for model in models:\n",
    "    if model != 'NESM3':\n",
    "        print('\\n' + model,':', end=' ')\n",
    "        for variant in sorted(utils.dirtodict(f\"../../data/CMIP6/{model}/\").keys())[1:]:\n",
    "            print(variant, end=', ')\n",
    "            for experiment in experiments:\n",
    "                mean_it_up(model, variant, experiment)"
   ]
  }
 ],
 "metadata": {
  "kernelspec": {
   "display_name": "myenv",
   "language": "python",
   "name": "python3"
  },
  "language_info": {
   "codemirror_mode": {
    "name": "ipython",
    "version": 3
   },
   "file_extension": ".py",
   "mimetype": "text/x-python",
   "name": "python",
   "nbconvert_exporter": "python",
   "pygments_lexer": "ipython3",
   "version": "3.9.15"
  },
  "orig_nbformat": 4
 },
 "nbformat": 4,
 "nbformat_minor": 2
}

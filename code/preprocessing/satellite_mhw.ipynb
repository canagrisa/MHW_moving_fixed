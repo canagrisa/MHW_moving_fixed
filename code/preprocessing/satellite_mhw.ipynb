{
 "cells": [
  {
   "cell_type": "code",
   "execution_count": 3,
   "metadata": {},
   "outputs": [
    {
     "ename": "ModuleNotFoundError",
     "evalue": "No module named 'cartopy'",
     "output_type": "error",
     "traceback": [
      "\u001b[0;31m---------------------------------------------------------------------------\u001b[0m",
      "\u001b[0;31mModuleNotFoundError\u001b[0m                       Traceback (most recent call last)",
      "Cell \u001b[0;32mIn[3], line 8\u001b[0m\n\u001b[1;32m      5\u001b[0m \u001b[39mimport\u001b[39;00m \u001b[39mnumpy\u001b[39;00m \u001b[39mas\u001b[39;00m \u001b[39mnp\u001b[39;00m\n\u001b[1;32m      7\u001b[0m \u001b[39mimport\u001b[39;00m \u001b[39mmatplotlib\u001b[39;00m\u001b[39m.\u001b[39;00m\u001b[39mpyplot\u001b[39;00m \u001b[39mas\u001b[39;00m \u001b[39mplt\u001b[39;00m\n\u001b[0;32m----> 8\u001b[0m \u001b[39mimport\u001b[39;00m \u001b[39mcartopy\u001b[39;00m\u001b[39m.\u001b[39;00m\u001b[39mcrs\u001b[39;00m \u001b[39mas\u001b[39;00m \u001b[39mccrs\u001b[39;00m\n\u001b[1;32m      9\u001b[0m \u001b[39mimport\u001b[39;00m \u001b[39mmatplotlib\u001b[39;00m \u001b[39mas\u001b[39;00m \u001b[39mmpl\u001b[39;00m\n\u001b[1;32m     10\u001b[0m \u001b[39mimport\u001b[39;00m \u001b[39msys\u001b[39;00m\n",
      "\u001b[0;31mModuleNotFoundError\u001b[0m: No module named 'cartopy'"
     ]
    }
   ],
   "source": [
    "%reload_ext autoreload\n",
    "%autoreload 2\n",
    "\n",
    "import xarray as xr\n",
    "import numpy as np\n",
    "\n",
    "import matplotlib.pyplot as plt\n",
    "import cartopy.crs as ccrs\n",
    "import matplotlib as mpl\n",
    "from MHW_metrics import main\n",
    "import sys\n",
    "\n",
    "sys.path.append('..')\n",
    "import utils\n",
    "import plot_utils\n",
    "import json"
   ]
  },
  {
   "cell_type": "code",
   "execution_count": 3,
   "metadata": {},
   "outputs": [],
   "source": [
    "fold = \"../../data/satellite/sst_rep_l4/\"\n",
    "files = utils.dirtodict(fold)[\".files\"]\n",
    "ds = xr.open_mfdataset(files, combine=\"by_coords\")\n",
    "\n",
    "\n",
    "# Crop the patch of Atlantic Sea that usually is left when cropping the Med Sea region.\n",
    "\n",
    "lat_threshold = 42.878781\n",
    "lon_threshold = 0.776363\n",
    "\n",
    "ds = ds.where((ds.lat <= lat_threshold) | (ds.lon >= lon_threshold))\n",
    "\n",
    "ds.analysed_sst.isel(time=0).plot()"
   ]
  },
  {
   "cell_type": "code",
   "execution_count": null,
   "metadata": {},
   "outputs": [],
   "source": [
    "baseline_year_length = 20  # Set baseline period length\n",
    "baseline_type = \"fixed_baseline\"  # Set type of baseline\n",
    "out_folder = \"../../results/satellite/\"\n",
    "\n",
    "main.MHW_metrics_satellite(\n",
    "    ds,\n",
    "    baseline_year_length,\n",
    "    baseline_type,\n",
    "    out_folder=out_folder,\n",
    "    var=\"analysed_sst\",\n",
    "    distribution=True,\n",
    "    error=True,\n",
    ")"
   ]
  }
 ],
 "metadata": {
  "kernelspec": {
   "display_name": "Python 3",
   "language": "python",
   "name": "python3"
  },
  "language_info": {
   "codemirror_mode": {
    "name": "ipython",
    "version": 3
   },
   "file_extension": ".py",
   "mimetype": "text/x-python",
   "name": "python",
   "nbconvert_exporter": "python",
   "pygments_lexer": "ipython3",
   "version": "3.8.10"
  },
  "orig_nbformat": 4
 },
 "nbformat": 4,
 "nbformat_minor": 2
}
